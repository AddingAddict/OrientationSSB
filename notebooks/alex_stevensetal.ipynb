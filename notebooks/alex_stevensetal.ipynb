{
 "cells": [
  {
   "cell_type": "code",
   "execution_count": 8,
   "metadata": {},
   "outputs": [],
   "source": [
    "from importlib import reload\n",
    "import sys\n",
    "import os\n",
    "sys.path.insert(0, './..')\n",
    "sys.path.insert(0, './../scripts')\n",
    "#import os\n",
    "#os.getcwd()\n",
    "#import sys\n",
    "#sys.path.append('/Users/alex/Desktop/Columbia/Ken Miller/Codes/SSB/OrientationSSB/')\n",
    "import tensorflow as tf\n",
    "import numpy as np\n",
    "import matplotlib.pyplot as plt\n",
    "from scipy import linalg\n",
    "from scipy import stats\n",
    "from scipy.signal import convolve2d\n",
    "from copy import copy\n",
    "\n",
    "from math import floor, ceil\n",
    "\n",
    "import numpy as np\n",
    "import tensorflow as tf\n",
    "import logging\n",
    "\n",
    "import matplotlib.pyplot as plt\n",
    "from matplotlib.backends.backend_pdf import PdfPages\n",
    "from mpl_toolkits.axes_grid1 import make_axes_locatable\n",
    "\n",
    "import pickle\n",
    "\n",
    "import dev_ori_sel_RF \n",
    "\n",
    "import plot_func as pf\n",
    "import util_func as uf\n",
    "\n",
    "from dev_ori_sel_RF.tools import gen_gaussian_random_field as ggrf\n",
    "import dev_ori_sel_RF\n",
    "from dev_ori_sel_RF import data_dir,integrator_tf,dynamics,network,run_onelayer,probe_RFs,plasticity_dynamics,run_full_plastic, network_full_plastic, connectivity\n",
    "from dev_ori_sel_RF.tools import misc,update_params_dict,analysis_tools"
   ]
  },
  {
   "cell_type": "code",
   "execution_count": 27,
   "metadata": {},
   "outputs": [],
   "source": [
    "reload(connectivity)\n",
    "Version = -1\n",
    "config_name = 'ffrec_stevens'\n",
    "Wret_to_lgn,_,_,_,_,_,_,_,_=uf.get_network_system_ffrec(Version,config_name)"
   ]
  },
  {
   "cell_type": "code",
   "execution_count": 34,
   "metadata": {},
   "outputs": [
    {
     "data": {
      "image/png": "[encoded data removed]",
      "text/plain": [
       "<Figure size 640x480 with 2 Axes>"
      ]
     },
     "metadata": {},
     "output_type": "display_data"
    }
   ],
   "source": [
    "Wret_to_lgn.shape\n",
    "\n",
    "plt.imshow(-Wret_to_lgn[5000,:].reshape(96,96),vmin=-0.1,vmax=0.8,\n",
    "        cmap='RdBu')\n",
    "plt.colorbar()\n",
    "plt.show()"
   ]
  },
  {
   "cell_type": "code",
   "execution_count": 22,
   "metadata": {},
   "outputs": [],
   "source": [
    "def distance(delta):\n",
    "    ''' assume periodic boundary conditions'''\n",
    "    signs = np.sign(delta)\n",
    "    return np.where(np.abs(delta) > 0.5, -signs*(1 - np.abs(delta)), delta)\n",
    "def gaussian(x,y,s):\n",
    "    return np.exp(-(x**2+y**2)/2./s**2)#1./2.*np.pi/s**2*\n",
    "\n",
    "from_size = np.array([3,3])\n",
    "to_size = from_size\n",
    "Nvert = np.array([1,1])\n",
    "grid = np.linspace(0,1,from_size[0],endpoint=False)\n",
    "# grid = np.repeat(grid,self.Nvert[0])\n",
    "xfrom,yfrom = np.meshgrid(grid,grid)\n",
    "xfrom = np.repeat(xfrom,Nvert[0]).reshape(from_size[0],from_size[1]*Nvert[0])\n",
    "yfrom = np.repeat(yfrom,Nvert[0]).reshape(from_size[0],from_size[1]*Nvert[0])\n",
    "grid = np.linspace(0,1,to_size[0],endpoint=False)\n",
    "# grid = np.repeat(grid,self.Nvert[1])\n",
    "xto,yto = np.meshgrid(grid,grid)\n",
    "xto = np.repeat(xto,Nvert[1]).reshape(to_size[0],to_size[1]*Nvert[1])\n",
    "yto = np.repeat(yto,Nvert[1]).reshape(to_size[0],to_size[1]*Nvert[1])\n",
    "xdelta = distance(xto[:,:,None,None]-xfrom[None,None,:,:])\n",
    "ydelta = distance(yto[:,:,None,None]-yfrom[None,None,:,:])"
   ]
  },
  {
   "cell_type": "code",
   "execution_count": 25,
   "metadata": {},
   "outputs": [
    {
     "data": {
      "text/plain": [
       "array([[1.        , 0.94595947, 0.94595947],\n",
       "       [0.94595947, 0.89483932, 0.89483932],\n",
       "       [0.94595947, 0.89483932, 0.89483932]])"
      ]
     },
     "execution_count": 25,
     "metadata": {},
     "output_type": "execute_result"
    }
   ],
   "source": [
    "sigma = 1\n",
    "g = gaussian(xdelta,ydelta,sigma)\n",
    "g[0,0,:,:]"
   ]
  },
  {
   "cell_type": "code",
   "execution_count": null,
   "metadata": {},
   "outputs": [],
   "source": []
  }
 ],
 "metadata": {
  "kernelspec": {
   "display_name": "Python 3.10.10 ('tensorflow')",
   "language": "python",
   "name": "python3"
  },
  "language_info": {
   "codemirror_mode": {
    "name": "ipython",
    "version": 3
   },
   "file_extension": ".py",
   "mimetype": "text/x-python",
   "name": "python",
   "nbconvert_exporter": "python",
   "pygments_lexer": "ipython3",
   "version": "3.10.10"
  },
  "orig_nbformat": 4,
  "vscode": {
   "interpreter": {
    "hash": "6c689652473bf5d24b7e8082146cd0e239d6c11b655d160204aff73691e33248"
   }
  }
 },
 "nbformat": 4,
 "nbformat_minor": 2
}
