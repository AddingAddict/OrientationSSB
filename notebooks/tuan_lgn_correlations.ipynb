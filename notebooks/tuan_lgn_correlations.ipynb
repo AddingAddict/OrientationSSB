{
 "cells": [
  {
   "cell_type": "code",
   "execution_count": 1,
   "id": "0837b3d6",
   "metadata": {},
   "outputs": [],
   "source": [
    "from importlib import reload\n",
    "import sys\n",
    "import os\n",
    "sys.path.insert(0, './..')\n",
    "sys.path.insert(0, './../scripts')"
   ]
  },
  {
   "cell_type": "code",
   "execution_count": 2,
   "id": "bbab2a98",
   "metadata": {},
   "outputs": [
    {
     "name": "stderr",
     "output_type": "stream",
     "text": [
      "2023-08-04 11:51:52.018083: I tensorflow/core/platform/cpu_feature_guard.cc:182] This TensorFlow binary is optimized to use available CPU instructions in performance-critical operations.\n",
      "To enable the following instructions: AVX2 FMA, in other operations, rebuild TensorFlow with the appropriate compiler flags.\n"
     ]
    },
    {
     "name": "stdout",
     "output_type": "stream",
     "text": [
      "Please install GPU version of TF\n"
     ]
    }
   ],
   "source": [
    "from importlib import reload\n",
    "\n",
    "import pickle\n",
    "import time\n",
    "\n",
    "import numpy as np\n",
    "import tensorflow as tf\n",
    "import logging\n",
    "from scipy import linalg\n",
    "from scipy import sparse\n",
    "\n",
    "import matplotlib.pyplot as plt\n",
    "from matplotlib.backends.backend_pdf import PdfPages\n",
    "from mpl_toolkits.axes_grid1 import make_axes_locatable\n",
    "\n",
    "import plot_func as pf\n",
    "import util_func as uf\n",
    "\n",
    "import dev_ori_sel_RF\n",
    "from dev_ori_sel_RF import data_dir,network,connectivity,dynamics_np\n",
    "from dev_ori_sel_RF.tools import misc,update_params_dict,gen_gaussian_random_field"
   ]
  },
  {
   "cell_type": "markdown",
   "id": "9c67b8d2",
   "metadata": {},
   "source": [
    "# Define Network Parameters"
   ]
  },
  {
   "cell_type": "code",
   "execution_count": 3,
   "id": "2cd64817",
   "metadata": {},
   "outputs": [],
   "source": [
    "Nret = 96\n",
    "Nlgn = 96"
   ]
  },
  {
   "cell_type": "code",
   "execution_count": 24,
   "id": "655a0df7",
   "metadata": {},
   "outputs": [],
   "source": [
    "conn_params = {\n",
    "    'sigma1':   0.037,\n",
    "    'sigma2':   0.15,\n",
    "    'ampl1':   1.0,\n",
    "    'ampl2':   1.0,\n",
    "    'noise':   0.0,\n",
    "    'profile':   \"Mexican-hat\",\n",
    "    'stevensetal': True\n",
    "}"
   ]
  },
  {
   "cell_type": "markdown",
   "id": "15d736ba",
   "metadata": {},
   "source": [
    "# Look at Stevens et al LGN Input with IID Uniform Retinal Activity"
   ]
  },
  {
   "cell_type": "markdown",
   "id": "04927b1c",
   "metadata": {},
   "source": [
    "## Build Ret$\\to$LGN Connectivity"
   ]
  },
  {
   "cell_type": "code",
   "execution_count": 25,
   "id": "6b185d12",
   "metadata": {},
   "outputs": [],
   "source": [
    "conn = connectivity.Connectivity((Nret,Nret),(Nlgn,Nlgn),0)\n",
    "WRtoT,_ = conn.create_matrix(conn_params,conn_params['profile'])"
   ]
  },
  {
   "cell_type": "code",
   "execution_count": null,
   "id": "76de8668",
   "metadata": {},
   "outputs": [],
   "source": [
    "fig,axs = plt.subplots(1,2,figsize=(12,4),dpi=300)\n",
    "fig.subplots_adjust(hspace=.2, wspace=.2)\n",
    "\n",
    "pf.imshowbar(fig,axs[0],WRtoT.reshape(Nlgn,Nlgn,Nret,Nret)[Nlgn//2,Nlgn//2,:,:],\n",
    "          vmin=-np.max(np.abs(WRtoT)),vmax=np.max(np.abs(WRtoT)),cmap='RdBu_r')\n",
    "\n",
    "axs[1].hist(np.sum(WRtoT,1),50)\n",
    "\n",
    "axs[0].set_title('LGN RF')\n",
    "axs[1].set_title('Sum of Presynaptic Weights')"
   ]
  },
  {
   "cell_type": "code",
   "execution_count": null,
   "id": "399167f6",
   "metadata": {},
   "outputs": [],
   "source": []
  }
 ],
 "metadata": {
  "kernelspec": {
   "display_name": "Python 3 (ipykernel)",
   "language": "python",
   "name": "python3"
  },
  "language_info": {
   "codemirror_mode": {
    "name": "ipython",
    "version": 3
   },
   "file_extension": ".py",
   "mimetype": "text/x-python",
   "name": "python",
   "nbconvert_exporter": "python",
   "pygments_lexer": "ipython3",
   "version": "3.11.4"
  }
 },
 "nbformat": 4,
 "nbformat_minor": 5
}
