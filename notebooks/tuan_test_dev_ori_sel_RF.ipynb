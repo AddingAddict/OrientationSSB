{
 "cells": [
  {
   "cell_type": "code",
   "execution_count": 1,
   "id": "e762c1ba",
   "metadata": {},
   "outputs": [],
   "source": [
    "from importlib import reload\n",
    "import sys\n",
    "import os\n",
    "sys.path.insert(0, './..')"
   ]
  },
  {
   "cell_type": "code",
   "execution_count": 2,
   "id": "317d7223",
   "metadata": {},
   "outputs": [
    {
     "name": "stderr",
     "output_type": "stream",
     "text": [
      "2023-03-30 21:42:29.277593: I tensorflow/core/platform/cpu_feature_guard.cc:193] This TensorFlow binary is optimized with oneAPI Deep Neural Network Library (oneDNN) to use the following CPU instructions in performance-critical operations:  AVX2 FMA\n",
      "To enable them in other operations, rebuild TensorFlow with the appropriate compiler flags.\n"
     ]
    },
    {
     "name": "stdout",
     "output_type": "stream",
     "text": [
      "Please install GPU version of TF\n"
     ]
    },
    {
     "name": "stderr",
     "output_type": "stream",
     "text": [
      "2023-03-30 21:42:35.931102: I tensorflow/core/platform/cpu_feature_guard.cc:193] This TensorFlow binary is optimized with oneAPI Deep Neural Network Library (oneDNN) to use the following CPU instructions in performance-critical operations:  AVX2 FMA\n",
      "To enable them in other operations, rebuild TensorFlow with the appropriate compiler flags.\n"
     ]
    }
   ],
   "source": [
    "from importlib import reload\n",
    "\n",
    "import numpy as np\n",
    "import tensorflow as tf\n",
    "import logging\n",
    "from scipy import linalg\n",
    "\n",
    "import dev_ori_sel_RF\n",
    "from dev_ori_sel_RF import integrator_tf,dynamics,network,run_onelayer\n",
    "from dev_ori_sel_RF.tools import misc,update_params_dict"
   ]
  },
  {
   "cell_type": "code",
   "execution_count": 9,
   "id": "7f95b32e",
   "metadata": {},
   "outputs": [
    {
     "name": "stdout",
     "output_type": "stream",
     "text": [
      "MISC params_dict params_test {'Nret': 20, 'Nlgn': 20, 'N4': 20, 'N23': 1, 'Nvert': 1, 'runtime': 2000, 'dt': 0.05, 'tau': 1.0, 'num_lgn_paths': 2, 'gamma_lgn': 4.0, 'gamma_4': 1.0, 'gamma_23': 1.0, 'learning_rate_decay_const': 160000.0, 'saving_stepsize': 10, 'plasticity_rule': 'activity_based', 'random_seed': 19, 'nonlinearity_l4': 'rectifier', 'nonlinearity_l23': 'rectifier', 'integrator': 'Euler', 'test_lowDsubset': False, 'developing_params': [], 'Inp_params': {'ndim': 25, 'radius': 3.0, 'width': 1.0, 'simulate_activity': 'dynamics', 'pattern_duration': 2500, 'avg_no_inp': 1, 'expanse_time': 1, 'init_radius': 0.3, 'mean_width': 0.3, 'onoff_corr_factor': 1.0, 'onoff_rel_weight': 1.0, 'input_type': 'white_noise_online', 'off_bias_strength': 0.0, 'off_bias_region_size': 0.5}, 'Wret_to_lgn_params': {'sigma1': 0.07, 'sigma2': 0.2, 'ampl1': 1.0, 'ampl2': 1.0, 'gamma_ret': 1.0, 'noise': 0.0, 'sigma': 0.045, 'ampl': 1.0, 'profile': 'Gaussian', 'mean_eccentricity': 0.6, 'SD_eccentricity': 0.05, 'SD_size': 0.05, 'heterogeneity_type': 'None'}, 'Wlgn_to4_params': {'sigma': 0.2, 'ampl': 1.0, 'noise': 0.0, 's_noise': 0.01, 'Wlim': 12, 'load_from_prev_run': 'None', 'connectivity_type': 'E', 'r_A_on': 0.15, 'arbor_profile_on': 'gaussian', 'ampl_on': 1.0, 'r_A_off': 0.15, 'arbor_profile_off': 'gaussian', 'ampl_off': 1.0, 'mean_eccentricity': 0.0, 'SD_eccentricity': 0.0, 'SD_size': 0.0, 'heterogeneity_type': 'None', 'smoothness_width': 0.05, 'beta_P': 0.005, 'learning_rate': 0.5, 'plasticity_rule': 'activity_based', 'constraint_mode': 'xalpha_approx', 'mult_norm': 'x', 'W_mode': 'initialize', 'clip_weights': True}, 'W4to4_params': {'sigma1': 0.16, 'sigma2': 0.3, 'ampl1': 1.0, 'ampl2': 1.0, 'sigma': 0.2, 'ampl': 1.0, 'noise': 0.0, 'sigma_EE': 0.2, 'sigma_IE': 0.2, 'sigma_EI': 0.15, 'sigma_II': 0.075, 'aEE': 11.4, 'aIE': 11.5, 'aEI': 10.0, 'aII': 10.0, 'rA_E': 0.3, 'rA_I': 0.3, 'Wrec_mode': 'Gaussian2pop', 'sigma_factor': 1.0, 'max_ew': 0.95, 'density': 0.5, 'ncluster': 3, 'mean_eccentricity': 0.0, 'SD_eccentricity': 0.0, 'SD_size': 0.0, 'heterogeneity_type': 'None', 'smoothness_width': 0.05, 'nu_4': 3.0, 'beta_P': 0.0005, 'Wlim': 12, 'learning_rate': 0.5, 'plasticity_rule': 'None', 'constraint_mode': 'None', 'mult_norm': 'None', 'firing_threshold': 'adaptive', 'theta_4': 0.9, 'l4_avg': 0.0}, 'W23_params': {'sigma_EE': 0.2, 'sigma_IE': 0.2, 'sigma_EI': 0.15, 'sigma_II': 0.075, 'aEE': 11.4, 'aIE': 11.5, 'aEI': 10.0, 'aII': 10.0, 'rA_E': 0.3, 'rA_I': 0.3, 'Wrec_mode': 'Gaussian2pop', 'sigma_factor': 0.2, 'max_ew': 'orig', 'density': 0.5, 'ncluster': 3, 'mean_eccentricity': 0.0, 'SD_eccentricity': 0.0, 'SD_size': 0.0, 'heterogeneity_type': 'independent', 'smoothness_width': 0.05, 'nu_23': 1.0, 'beta_P': 0.0005, 'Wlim': 12, 'learning_rate': 0.2, 'plasticity_rule': 'None', 'constraint_mode': 'None', 'mult_norm': 'None', 'firing_threshold': 0.0}, 'W4to23_params': {'sigma_EE': 0.2, 'sigma_IE': 0.2, 'sigma_EI': 0.15, 'sigma_II': 0.075, 'aEE': 11.4, 'aIE': 11.5, 'aEI': 10.0, 'aII': 10.0, 'rA_E': 0.3, 'rA_I': 0.3, 'Wrec_mode': 'Gaussian2pop', 'sigma_factor': 0.2, 'max_ew': 'orig', 'mean_eccentricity': 0.0, 'SD_eccentricity': 0.0, 'SD_size': 0.0, 'heterogeneity_type': 'None', 'smoothness_width': 0.05, 'arbor_profile': 'gaussian', 's_noise': 0.2, 'r_A': 0.3, 'nu_4': 1.0, 'beta_P': 0.1, 'learning_rate': 0.2, 'Wlim': 12, 'plasticity_rule': 'None', 'constraint_mode': 'None', 'mult_norm': 'None'}, 'W23to4_params': {'sigma_EE': 0.2, 'sigma_IE': 0.2, 'sigma_EI': 0.15, 'sigma_II': 0.075, 'aEE': 11.4, 'aIE': 11.5, 'aEI': 10.0, 'aII': 10.0, 'Wrec_mode': 'Gaussian2pop', 'sigma_factor': 0.2, 'max_ew': 'orig', 'mean_eccentricity': 0.0, 'SD_eccentricity': 0.0, 'SD_size': 0.0, 'heterogeneity_type': 'None', 'smoothness_width': 0.05, 'nu_23': 1.0, 'beta_P': 0.1, 'Wlim': 12, 'learning_rate': 0.2, 'plasticity_rule': 'None', 'constraint_mode': 'None', 'mult_norm': 'None'}}\n"
     ]
    }
   ],
   "source": [
    "reload(misc)\n",
    "\n",
    "config_dict = misc.load_external_params(\"params_test\")"
   ]
  },
  {
   "cell_type": "code",
   "execution_count": null,
   "id": "558b676b",
   "metadata": {},
   "outputs": [
    {
     "name": "stdout",
     "output_type": "stream",
     "text": [
      "Please install GPU version of TF\n",
      "# of stimuli: 8\n",
      "mode in get_RFs initialize\n",
      "CHECK radius 0.15\n",
      "CHECK radius 0.15\n",
      "profile_conn Gaussian\n",
      "Warning: Currently E and I units are matched in their abs phases/same realization of existing conns\n",
      "CHECK radius 0.3\n",
      "arbor (20, 20, 20, 20)\n",
      "CHECK radius 0.3\n",
      "arbor (20, 20, 20, 20)\n",
      "CHECK radius 0.3\n",
      "arbor (20, 20, 20, 20)\n",
      "CHECK radius 0.3\n",
      "arbor (20, 20, 20, 20)\n",
      "\n",
      "CHECK CONN VALS Gaussian 0.16206370216865573 0.1634853135911878 0.2004777735523877 0.7074948371359112\n",
      "orig max ew 2.977428066551318 0.95\n",
      "max_ew 0.95\n",
      "WEE=3.6373674721700744,WEI=3.1906732212018207,WIE=3.6692742043820923,WII=3.19067322120182\n",
      "omega_i=Wie-Wee=0.031906732212017896\n",
      "omega_e=Wii-Wei=-8.881784197001252e-16\n",
      "\n",
      "W4to4 (800, 800)\n",
      "Starting simulation. This might take a while...\n",
      "...\n",
      "max_freq 4.2 0.23809523809523808 1.4959965017094252\n",
      "Number of plasticity steps: 16\n",
      "lgn (2, 400) tf.Tensor(4.525697, shape=(), dtype=float32)\n",
      "\n",
      "Plasticity step: 0, exp: 0, input: 0\n",
      "Comment out next line if running with antolik_etal settings\n",
      "L4 0 212.42587 279.96176 0 0\n",
      "lgn (2, 400) tf.Tensor(5.1292596, shape=(), dtype=float32)\n",
      "\n",
      "Plasticity step: 1, exp: 0, input: 0\n",
      "Comment out next line if running with antolik_etal settings\n",
      "L4 1 218.86447 274.82532 0 0\n",
      "lgn (2, 400) tf.Tensor(5.2797055, shape=(), dtype=float32)\n",
      "\n",
      "Plasticity step: 2, exp: 0, input: 0\n",
      "Comment out next line if running with antolik_etal settings\n",
      "L4 2 208.45398 281.01593 0 0\n",
      "lgn (2, 400) tf.Tensor(4.9290137, shape=(), dtype=float32)\n",
      "\n",
      "Plasticity step: 3, exp: 0, input: 0\n",
      "Comment out next line if running with antolik_etal settings\n",
      "L4 3 196.99135 291.21167 0 0\n",
      "lgn (2, 400) tf.Tensor(5.2713914, shape=(), dtype=float32)\n",
      "\n",
      "Plasticity step: 4, exp: 0, input: 0\n",
      "Comment out next line if running with antolik_etal settings\n",
      "L4 4 201.9069 286.5102 0 0\n",
      "lgn (2, 400) tf.Tensor(4.968583, shape=(), dtype=float32)\n",
      "\n",
      "Plasticity step: 5, exp: 0, input: 0\n",
      "Comment out next line if running with antolik_etal settings\n",
      "L4 5 203.29842 284.26733 0 0\n",
      "lgn (2, 400) tf.Tensor(4.587996, shape=(), dtype=float32)\n",
      "\n",
      "Plasticity step: 6, exp: 0, input: 0\n",
      "Comment out next line if running with antolik_etal settings\n"
     ]
    }
   ],
   "source": [
    "reload(run_onelayer)\n",
    "reload(integrator_tf)\n",
    "run_onelayer.parameter_sweep_layer4(0,config_dict,not_saving_temp=False)"
   ]
  },
  {
   "cell_type": "code",
   "execution_count": null,
   "id": "16227548",
   "metadata": {},
   "outputs": [],
   "source": []
  }
 ],
 "metadata": {
  "kernelspec": {
   "display_name": "Python 3 (ipykernel)",
   "language": "python",
   "name": "python3"
  },
  "language_info": {
   "codemirror_mode": {
    "name": "ipython",
    "version": 3
   },
   "file_extension": ".py",
   "mimetype": "text/x-python",
   "name": "python",
   "nbconvert_exporter": "python",
   "pygments_lexer": "ipython3",
   "version": "3.9.16"
  }
 },
 "nbformat": 4,
 "nbformat_minor": 5
}
