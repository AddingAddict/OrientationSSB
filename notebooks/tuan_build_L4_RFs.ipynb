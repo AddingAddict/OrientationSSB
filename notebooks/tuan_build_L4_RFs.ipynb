{
 "cells": [
  {
   "cell_type": "code",
   "execution_count": 1,
   "id": "57c8d64a",
   "metadata": {},
   "outputs": [],
   "source": [
    "from importlib import reload\n",
    "import sys\n",
    "import os\n",
    "sys.path.insert(0, './..')\n",
    "sys.path.insert(0, './../scripts')"
   ]
  },
  {
   "cell_type": "code",
   "execution_count": 2,
   "id": "d0710f4b",
   "metadata": {},
   "outputs": [
    {
     "name": "stderr",
     "output_type": "stream",
     "text": [
      "2023-08-02 12:34:27.845877: I tensorflow/core/platform/cpu_feature_guard.cc:182] This TensorFlow binary is optimized to use available CPU instructions in performance-critical operations.\n",
      "To enable the following instructions: AVX2 FMA, in other operations, rebuild TensorFlow with the appropriate compiler flags.\n"
     ]
    },
    {
     "name": "stdout",
     "output_type": "stream",
     "text": [
      "Please install GPU version of TF\n"
     ]
    }
   ],
   "source": [
    "from importlib import reload\n",
    "\n",
    "import pickle\n",
    "import time\n",
    "\n",
    "import numpy as np\n",
    "import tensorflow as tf\n",
    "import logging\n",
    "from scipy import linalg\n",
    "from scipy import sparse\n",
    "\n",
    "import matplotlib.pyplot as plt\n",
    "from matplotlib.backends.backend_pdf import PdfPages\n",
    "from mpl_toolkits.axes_grid1 import make_axes_locatable\n",
    "\n",
    "import plot_func as pf\n",
    "import util_func as uf\n",
    "\n",
    "import dev_ori_sel_RF\n",
    "from dev_ori_sel_RF import data_dir,network,connectivity,dynamics_np\n",
    "from dev_ori_sel_RF.tools import misc,update_params_dict,gen_gaussian_random_field"
   ]
  },
  {
   "cell_type": "markdown",
   "id": "7c11b036",
   "metadata": {},
   "source": [
    "# Create on/off subregion"
   ]
  },
  {
   "cell_type": "code",
   "execution_count": null,
   "id": "a9a8e8e8",
   "metadata": {},
   "outputs": [],
   "source": []
  }
 ],
 "metadata": {
  "kernelspec": {
   "display_name": "Python 3 (ipykernel)",
   "language": "python",
   "name": "python3"
  },
  "language_info": {
   "codemirror_mode": {
    "name": "ipython",
    "version": 3
   },
   "file_extension": ".py",
   "mimetype": "text/x-python",
   "name": "python",
   "nbconvert_exporter": "python",
   "pygments_lexer": "ipython3",
   "version": "3.11.4"
  }
 },
 "nbformat": 4,
 "nbformat_minor": 5
}
