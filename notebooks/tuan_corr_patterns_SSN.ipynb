{
 "cells": [
  {
   "cell_type": "code",
   "execution_count": 1,
   "id": "b0865602",
   "metadata": {},
   "outputs": [],
   "source": [
    "from importlib import reload\n",
    "import sys\n",
    "import os\n",
    "sys.path.insert(0, './..')\n",
    "sys.path.insert(0, './../scripts')"
   ]
  },
  {
   "cell_type": "code",
   "execution_count": 2,
   "id": "45071666",
   "metadata": {},
   "outputs": [
    {
     "name": "stderr",
     "output_type": "stream",
     "text": [
      "2023-08-11 11:51:54.130000: I tensorflow/core/platform/cpu_feature_guard.cc:182] This TensorFlow binary is optimized to use available CPU instructions in performance-critical operations.\n",
      "To enable the following instructions: AVX2 FMA, in other operations, rebuild TensorFlow with the appropriate compiler flags.\n"
     ]
    },
    {
     "name": "stdout",
     "output_type": "stream",
     "text": [
      "Please install GPU version of TF\n"
     ]
    }
   ],
   "source": [
    "from importlib import reload\n",
    "\n",
    "import pickle\n",
    "import time\n",
    "\n",
    "import numpy as np\n",
    "import tensorflow as tf\n",
    "import logging\n",
    "from scipy import linalg\n",
    "from scipy import sparse\n",
    "\n",
    "import matplotlib.pyplot as plt\n",
    "from matplotlib.backends.backend_pdf import PdfPages\n",
    "from mpl_toolkits.axes_grid1 import make_axes_locatable\n",
    "\n",
    "import plot_func as pf\n",
    "import util_func as uf\n",
    "\n",
    "import dev_ori_sel_RF\n",
    "from dev_ori_sel_RF import data_dir,network,connectivity,dynamics_np\n",
    "from dev_ori_sel_RF.tools import misc,update_params_dict,gen_gaussian_random_field"
   ]
  },
  {
   "cell_type": "code",
   "execution_count": 9,
   "id": "6f49bbe9",
   "metadata": {},
   "outputs": [
    {
     "data": {
      "text/plain": [
       "array([[ 0,  1,  2,  3,  4,  5,  6,  7,  8,  9],\n",
       "       [10, 11, 12, 13, 14, 15, 16, 17, 18, 19]])"
      ]
     },
     "execution_count": 9,
     "metadata": {},
     "output_type": "execute_result"
    }
   ],
   "source": [
    "np.stack((np.arange(10),np.arange(10,20)))"
   ]
  },
  {
   "cell_type": "markdown",
   "id": "4546a196",
   "metadata": {},
   "source": [
    "# Define functions to simulate dynamics"
   ]
  },
  {
   "cell_type": "code",
   "execution_count": 3,
   "id": "523751ad",
   "metadata": {},
   "outputs": [],
   "source": [
    "from scipy.integrate import solve_ivp\n",
    "\n",
    "def fio_rect(x):\n",
    "    return np.fmax(x,0)\n",
    "\n",
    "def dynamics_system(y,inp_ff,Wrec,\\\n",
    "                    gamma_E,gamma_I,gamma_ff,n_E,n_I,tau):\n",
    "    argE = gamma_E * np.dot(Wrec[0,0],y[0]) + gamma_I * np.dot(Wrec[0,1],y[1]) + gamma_ff * inp_ff[0]\n",
    "    argI = gamma_E * np.dot(Wrec[1,0],y[0]) + gamma_I * np.dot(Wrec[1,1],y[1]) + gamma_ff * inp_ff[1]\n",
    "    return 1./tau*( -y + np.stack([fio_rect(argE)**n_E,fio_rect(argI)**n_I]))\n",
    "\n",
    "def integrate(y0,inp,dt,Nt,gamma_E=1.02,gamma_I=1.02,n_E=2,n_I=3):\n",
    "    y = y0\n",
    "    for t_idx in range(Nt):\n",
    "        out = dynamics_system(y,inp,W4to4,gamma_E,gamma_I,1.0,n_E,n_I,1.0)\n",
    "        dy = out\n",
    "        y = y + dt*dy\n",
    "    return y\n",
    "#     def ode_fun(t,y):\n",
    "#         return dynamics_system(y,inp,W4to4,gamma_rec,1.0,N4*N4,1.0)\n",
    "#     sol = solve_ivp(ode_fun,[0,dt*Nt],y0,method='RK23',first_step=dt)\n",
    "#     return np.array([sol.y[:N4**2,-1].reshape((N4,N4)),sol.y[N4**2:,-1].reshape((N4,N4))])"
   ]
  },
  {
   "cell_type": "markdown",
   "id": "7b7a50bc",
   "metadata": {},
   "source": [
    "# Calculate the typical length scale in RELU network"
   ]
  },
  {
   "cell_type": "code",
   "execution_count": 4,
   "id": "e1126bcc",
   "metadata": {},
   "outputs": [
    {
     "name": "stdout",
     "output_type": "stream",
     "text": [
      "MISC params_dict params_big_homo {'Nret': 60, 'Nlgn': 60, 'N4': 60, 'N23': 1, 'Nvert': 1, 'runtime': 32000, 'dt': 0.05, 'tau': 1.0, 'num_lgn_paths': 4, 'gamma_lgn': 4.0, 'gamma_4': 1.0, 'gamma_23': 1.0, 'learning_rate_decay_const': 160000.0, 'saving_stepsize': 10, 'plasticity_rule': 'activity_based', 'random_seed': 19, 'nonlinearity_l4': 'rectifier', 'nonlinearity_l23': 'rectifier', 'integrator': 'Euler', 'test_lowDsubset': False, 'developing_params': [], 'Inp_params': {'ndim': 25, 'radius': 3.0, 'width': 1.0, 'simulate_activity': 'dynamics', 'pattern_duration': 2500, 'avg_no_inp': 1, 'expanse_time': 1, 'init_radius': 0.3, 'mean_width': 0.3, 'onoff_corr_factor': 1.0, 'onoff_rel_weight': 1.0, 'input_type': 'white_noise_online', 'off_bias_strength': 0.0, 'off_bias_region_size': 0.5}, 'Wret_to_lgn_params': {'sigma1': 0.01125, 'sigma2': 0.03, 'ampl1': 2.0, 'ampl2': 1.0, 'gamma_ret': 1.0, 'noise': 0.0, 'sigma': 0.016875, 'ampl': 1.0, 'profile': 'Gaussian', 'mean_eccentricity': 0.6, 'SD_eccentricity': 0.05, 'SD_size': 0.05, 'heterogeneity_type': 'None'}, 'Wlgn_to4_params': {'sigma': 0.2, 'ampl': 1.0, 'noise': 0.0, 's_noise': 0.01, 'Wlim': 2.0, 'load_from_prev_run': 'None', 'connectivity_type': 'EI', 'r_A_on': 0.075, 'arbor_profile_on': 'gaussian', 'ampl_on': 1.0, 'r_A_off': 0.075, 'arbor_profile_off': 'gaussian', 'ampl_off': 1.0, 'r_lim': 1.0, 'mean_eccentricity': 0.0, 'SD_eccentricity': 0.0, 'SD_size': 0.0, 'heterogeneity_type': 'None', 'smoothness_width': 0.05, 'beta_P': 0.005, 'learning_rate': 0.5, 'plasticity_rule': 'activity_based', 'constraint_mode': 'xalpha_approx', 'mult_norm': 'xalpha_approx', 'freeze_weights': False, 'W_mode': 'initializegauss', 'clip_weights': True}, 'W4to4_params': {'sigma1': 0.08, 'sigma2': 0.15, 'ampl1': 1.0, 'ampl2': 1.0, 'sigma': 0.1, 'ampl': 1.0, 'noise': 0.0, 'sigma_EE': 0.02375, 'sigma_IE': 0.02375, 'sigma_EI': 0.0175, 'sigma_II': 0.0075, 'aEE': 22.2, 'aIE': 21.6, 'aEI': 21.6, 'aII': 20.8, 'rA_E': 1.0, 'rA_I': 1.0, 'r_lim': 1.0, 'Wrec_mode': 'Gaussian2pop', 'sigma_factor': 1.3333333333, 'max_ew': 0.95, 'density': 0.5, 'ncluster': 3, 'mean_eccentricity': 0.0, 'SD_eccentricity': 0.0, 'SD_size': 0.0, 'heterogeneity_type': 'independent', 'smoothness_width': 0.05, 'nu_4': 3.0, 'beta_P': 0.0005, 'Wlim': 12, 'learning_rate': 0.5, 'plasticity_rule': 'None', 'constraint_mode': 'None', 'mult_norm': 'None', 'firing_threshold': 'adaptive', 'theta_4': 0.9, 'l4_avg': 0.0}, 'W23_params': {'sigma_EE': 0.2, 'sigma_IE': 0.2, 'sigma_EI': 0.15, 'sigma_II': 0.075, 'aEE': 11.4, 'aIE': 11.5, 'aEI': 10.0, 'aII': 10.0, 'rA_E': 0.3, 'rA_I': 0.3, 'Wrec_mode': 'Gaussian2pop', 'sigma_factor': 0.2, 'max_ew': 'orig', 'density': 0.5, 'ncluster': 3, 'mean_eccentricity': 0.0, 'SD_eccentricity': 0.0, 'SD_size': 0.0, 'heterogeneity_type': 'independent', 'smoothness_width': 0.05, 'nu_23': 1.0, 'beta_P': 0.0005, 'Wlim': 12, 'learning_rate': 0.2, 'plasticity_rule': 'None', 'constraint_mode': 'None', 'mult_norm': 'None', 'firing_threshold': 0.0}, 'W4to23_params': {'sigma_EE': 0.2, 'sigma_IE': 0.2, 'sigma_EI': 0.15, 'sigma_II': 0.075, 'aEE': 11.4, 'aIE': 11.5, 'aEI': 10.0, 'aII': 10.0, 'rA_E': 0.3, 'rA_I': 0.3, 'Wrec_mode': 'Gaussian2pop', 'sigma_factor': 0.2, 'max_ew': 'orig', 'mean_eccentricity': 0.0, 'SD_eccentricity': 0.0, 'SD_size': 0.0, 'heterogeneity_type': 'None', 'smoothness_width': 0.05, 'arbor_profile': 'gaussian', 's_noise': 0.2, 'r_A': 0.3, 'nu_4': 1.0, 'beta_P': 0.1, 'learning_rate': 0.2, 'Wlim': 12, 'plasticity_rule': 'None', 'constraint_mode': 'None', 'mult_norm': 'None'}, 'W23to4_params': {'sigma_EE': 0.2, 'sigma_IE': 0.2, 'sigma_EI': 0.15, 'sigma_II': 0.075, 'aEE': 11.4, 'aIE': 11.5, 'aEI': 10.0, 'aII': 10.0, 'Wrec_mode': 'Gaussian2pop', 'sigma_factor': 0.2, 'max_ew': 'orig', 'mean_eccentricity': 0.0, 'SD_eccentricity': 0.0, 'SD_size': 0.0, 'heterogeneity_type': 'None', 'smoothness_width': 0.05, 'nu_23': 1.0, 'beta_P': 0.1, 'Wlim': 12, 'learning_rate': 0.2, 'plasticity_rule': 'None', 'constraint_mode': 'None', 'mult_norm': 'None'}}\n"
     ]
    }
   ],
   "source": [
    "config_name = \"big_homo\"\n",
    "Version = -1\n",
    "config_dict,N4pop,Nlgnpop,Nret,Nlgn,N4,rA = uf.get_network_size(config_name)"
   ]
  },
  {
   "cell_type": "code",
   "execution_count": 7,
   "id": "ae25d836",
   "metadata": {},
   "outputs": [],
   "source": [
    "rates = np.load('homo_rates_N4={:d}.npy'.format(N4)).reshape((-1,2,N4,N4))\n",
    "n_inp = rates.shape[0]\n",
    "\n",
    "# fps_dat = np.zeros(int(np.ceil(N4//2*np.sqrt(2))))\n",
    "# fps_err = np.zeros(int(np.ceil(N4//2*np.sqrt(2))))\n",
    "fps_dat = np.zeros(N4//2)\n",
    "fps_err = np.zeros(N4//2)\n",
    "\n",
    "grid = np.arange(-N4//2,N4//2)\n",
    "x,y = np.meshgrid(grid,grid)\n",
    "bin_idxs = np.digitize(np.sqrt(x**2+y**2),np.arange(0,np.ceil(N4//2*np.sqrt(2)))+0.5)\n",
    "\n",
    "for i in range(10):\n",
    "    for j in range(10):\n",
    "        idx = i*10+j\n",
    "        \n",
    "        fp2 = np.abs(np.fft.fftshift(np.fft.fft2(rates[idx,0]-np.nanmean(rates[idx,0]))))**2\n",
    "        for idx in range(N4//2):\n",
    "            fps_dat[idx] += np.mean(fp2[bin_idxs == idx])\n",
    "            fps_err[idx] += np.var(fp2[bin_idxs == idx])\n",
    "            \n",
    "        fp2 = np.abs(np.fft.fftshift(np.fft.fft2(rates[idx,1]-np.nanmean(rates[idx,1]))))**2\n",
    "        for idx in range(N4//2):\n",
    "            fps_dat[idx] += np.mean(fp2[bin_idxs == idx])\n",
    "            fps_err[idx] += np.var(fp2[bin_idxs == idx])\n",
    "\n",
    "fps_dat /= 2*n_inp\n",
    "fps_err /= 2*n_inp\n",
    "fps_err = np.sqrt(fps_err / (2*n_inp))\n",
    "# fps_dat /= n_inp\n",
    "# fps_err /= n_inp\n",
    "# fps_err = np.sqrt(fps_err / n_inp)"
   ]
  },
  {
   "cell_type": "code",
   "execution_count": 8,
   "id": "7084437a",
   "metadata": {},
   "outputs": [
    {
     "name": "stdout",
     "output_type": "stream",
     "text": [
      "Λ = 15.0\n"
     ]
    },
    {
     "data": {
      "image/png": "[encoded data removed]",
      "text/plain": [
       "<Figure size 800x600 with 1 Axes>"
      ]
     },
     "metadata": {},
     "output_type": "display_data"
    }
   ],
   "source": [
    "fig,axs = plt.subplots(1,1,figsize=(8,6))\n",
    "\n",
    "# freqs = np.arange(int(np.ceil(N4//2*np.sqrt(2))))/N4\n",
    "freqs = np.arange(N4//2)/N4\n",
    "\n",
    "axs.plot(freqs,fps_dat/np.sum(fps_dat)*N4,'k')\n",
    "axs.fill_between(freqs,(fps_dat+fps_err)/np.sum(fps_dat)*N4,\n",
    "                 (fps_dat-fps_err)/np.sum(fps_dat)*N4,\n",
    "                 color='k',alpha=0.5)\n",
    "\n",
    "axs.set_xlabel('Spatial Frequency')\n",
    "axs.set_ylabel('Normalized Fourier Power Spectrum')\n",
    "\n",
    "axs.set_xlim(0,(N4//2-1)/N4)\n",
    "axs.set_ylim(0,None)\n",
    "\n",
    "Lam = 1/freqs[np.argmax(fps_dat)]\n",
    "print('Λ =',Lam)"
   ]
  },
  {
   "cell_type": "markdown",
   "id": "df6c14fa",
   "metadata": {},
   "source": [
    "# Solve for SSN parameters that would give correct correlation patterns"
   ]
  },
  {
   "cell_type": "code",
   "execution_count": null,
   "id": "8e0703d3",
   "metadata": {},
   "outputs": [],
   "source": []
  }
 ],
 "metadata": {
  "kernelspec": {
   "display_name": "Python 3 (ipykernel)",
   "language": "python",
   "name": "python3"
  },
  "language_info": {
   "codemirror_mode": {
    "name": "ipython",
    "version": 3
   },
   "file_extension": ".py",
   "mimetype": "text/x-python",
   "name": "python",
   "nbconvert_exporter": "python",
   "pygments_lexer": "ipython3",
   "version": "3.11.4"
  }
 },
 "nbformat": 4,
 "nbformat_minor": 5
}
